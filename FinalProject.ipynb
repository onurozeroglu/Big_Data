{
 "cells": [
  {
   "cell_type": "markdown",
   "id": "6ff66086",
   "metadata": {},
   "source": [
    "In this part we just import the necessary librarys."
   ]
  },
  {
   "cell_type": "code",
   "execution_count": null,
   "id": "98304ccd",
   "metadata": {},
   "outputs": [],
   "source": [
    "import findspark"
   ]
  },
  {
   "cell_type": "code",
   "execution_count": null,
   "id": "8c28bc62",
   "metadata": {},
   "outputs": [],
   "source": [
    "findspark.init(\"C:\\\\Users\\\\onurc\\\\Downloads\\\\spark-3.3.1-bin-hadoop3\\\\spark-3.3.1-bin-hadoop3\\\\spark-3.3.1-bin-hadoop3\")"
   ]
  },
  {
   "cell_type": "code",
   "execution_count": null,
   "id": "01c5ffff",
   "metadata": {},
   "outputs": [],
   "source": [
    "import warnings\n",
    "warnings.filterwarnings(\"ignore\")"
   ]
  },
  {
   "cell_type": "code",
   "execution_count": null,
   "id": "bce0ff46",
   "metadata": {},
   "outputs": [],
   "source": [
    "from pyspark.sql import SparkSession\n",
    "from pyspark.ml.feature import StringIndexer,OneHotEncoder,VectorAssembler,StandardScaler\n",
    "from pyspark.sql.functions import year, month, date_format, count\n",
    "from pyspark.ml import Pipeline\n",
    "from pyspark.ml.regression import LinearRegression\n",
    "from pyspark.ml.evaluation import RegressionEvaluator\n",
    "from pyspark.ml.linalg import Vectors"
   ]
  },
  {
   "cell_type": "code",
   "execution_count": null,
   "id": "7bcb3266",
   "metadata": {},
   "outputs": [],
   "source": [
    "from pyspark.sql import SparkSession\n",
    "#spark = SparkSession.builder.appName(\"Read CSV\").config(\"spark.driver.memory\", \"8g\").config(\"spark.executor.memory\", \"8g\").getOrCreate()\n",
    "spark = SparkSession.builder.appName(\"Read CSV\").getOrCreate()\n",
    "# Read the CSV file into a DataFrame\n",
    "df = spark.read.csv(\"region25_en.csv\", header=True, inferSchema=True)"
   ]
  },
  {
   "cell_type": "markdown",
   "id": "5ab20ee3",
   "metadata": {},
   "source": [
    "## Visualization"
   ]
  },
  {
   "cell_type": "code",
   "execution_count": null,
   "id": "d3b1bcc8",
   "metadata": {},
   "outputs": [],
   "source": [
    "from pyspark.sql.functions import count\n",
    "grouped_df = df.groupBy('location').agg(count('*').alias('count'))\n",
    "grouped_df = grouped_df.withColumnRenamed('location', 'location_name')\n",
    "grouped_df.show()"
   ]
  },
  {
   "cell_type": "markdown",
   "id": "7f587897",
   "metadata": {},
   "source": [
    "In this part we are preparing the data for visualisation"
   ]
  },
  {
   "cell_type": "code",
   "execution_count": null,
   "id": "b128021f",
   "metadata": {},
   "outputs": [],
   "source": [
    "import folium\n",
    "import pandas as pd"
   ]
  },
  {
   "cell_type": "code",
   "execution_count": null,
   "id": "55f93433",
   "metadata": {},
   "outputs": [],
   "source": [
    "df_pd = grouped_df.toPandas()"
   ]
  },
  {
   "cell_type": "code",
   "execution_count": null,
   "id": "25d4df72",
   "metadata": {},
   "outputs": [],
   "source": [
    "import sys\n",
    "#assert sys.version_info >= (3, 10)"
   ]
  },
  {
   "cell_type": "code",
   "execution_count": null,
   "id": "7c148df3",
   "metadata": {},
   "outputs": [],
   "source": [
    "from geopy.geocoders import Nominatim\n",
    "\n",
    "geolocator = Nominatim(user_agent=\"geoapiExercises\")\n",
    "\n",
    "# Create empty latitude and longitude columns\n",
    "df_pd['latitude'] = None\n",
    "df_pd['longitude'] = None\n",
    "\n",
    " \n",
    "for index, row in df_pd.iterrows():\n",
    "    address=row['location_name']\n",
    "    if address == \"Chkalovskoe\":\n",
    "        df_pd['latitude'][index]= 55.5956\n",
    "        df_pd['longitude'][index]= 37.4850\n",
    "        continue\n",
    "    if address == \"Volno-Nadezhdinskoe\":\n",
    "        df_pd['latitude'][index]= 43.3747\n",
    "        df_pd['longitude'][index]= 131.9956\n",
    "        continue\n",
    "    if address == \"Pogranichnyj\":\n",
    "        df_pd['latitude'][index]= 44.6088\n",
    "        df_pd['longitude'][index]= 131.4910\n",
    "        continue\n",
    "    if address == \"Chuguevka\":\n",
    "        df_pd['latitude'][index]= 44.6088\n",
    "        df_pd['longitude'][index]= 131.4910\n",
    "        continue\n",
    "    if address == \"Gornorechenskij\":\n",
    "        df_pd['latitude'][index]= 51.776272\n",
    "        df_pd['longitude'][index]= 55.099594\n",
    "        continue\n",
    "    if address == \"Volchanets\":\n",
    "        df_pd['latitude'][index]= 42.9133\n",
    "        df_pd['longitude'][index]= 132.7624\n",
    "        continue\n",
    "    if address == \"Smoljaninovo\":\n",
    "        df_pd['latitude'][index]= 43.2809\n",
    "        df_pd['longitude'][index]= 132.4595\n",
    "        continue\n",
    "    if address == \"Lipovtsy\":\n",
    "        df_pd['latitude'][index]= 44.1997\n",
    "        df_pd['longitude'][index]= 131.7229\n",
    "        continue\n",
    "    if address == \"Novoshahtinskij\":\n",
    "        df_pd['latitude'][index]= 47.7569\n",
    "        df_pd['longitude'][index]= 39.9358\n",
    "        continue\n",
    "    if address == \"Slavjanka\":\n",
    "        df_pd['latitude'][index]= 42.8624\n",
    "        df_pd['longitude'][index]= 131.3894\n",
    "        continue\n",
    "    if address == \"Bolshoj Kamen\":\n",
    "        df_pd['latitude'][index]= 43.1125\n",
    "        df_pd['longitude'][index]= 132.3452\n",
    "        continue\n",
    "    if address == \"Jaroslavskij\":\n",
    "        df_pd['latitude'][index]= 55.8604\n",
    "        df_pd['longitude'][index]= 37.6928\n",
    "        continue\n",
    "    if address == \"Roschino\":\n",
    "        df_pd['latitude'][index]= 55.4575\n",
    "        df_pd['longitude'][index]= 74.2358\n",
    "        continue\n",
    "        \n",
    "#    match address:\n",
    "#        case 'Chkalovskoe':\n",
    "#            df_pd['latitude'][index]= 55.5956\n",
    "#            df_pd['longitude'][index]= 37.4850\n",
    "#            continue\n",
    "#        case 'Volno-Nadezhdinskoe':\n",
    "#            df_pd['latitude'][index]= 43.3747\n",
    "#            df_pd['longitude'][index]= 131.9956\n",
    "#            continue\n",
    "#        case 'Pogranichnyj':\n",
    "#            df_pd['latitude'][index]= 44.6088\n",
    "#            df_pd['longitude'][index]= 131.4910\n",
    "#            continue\n",
    "#        case 'Chuguevka':\n",
    "#            df_pd['latitude'][index]= 44.6088\n",
    "#            df_pd['longitude'][index]= 131.4910\n",
    "#            continue\n",
    "#        case 'Gornorechenskij':\n",
    "#            df_pd['latitude'][index]= 51.776272\n",
    "#            df_pd['longitude'][index]= 55.099594\n",
    "#            continue\n",
    "#        case 'Volchanets':\n",
    "#            df_pd['latitude'][index]= 42.9133\n",
    "#            df_pd['longitude'][index]= 132.7624\n",
    "#            continue\n",
    "#        case 'Smoljaninovo':\n",
    "#            df_pd['latitude'][index]= 43.2809\n",
    "#            df_pd['longitude'][index]= 132.4595\n",
    "#            continue\n",
    "#        case 'Lipovtsy':\n",
    "#            df_pd['latitude'][index]= 44.1997\n",
    "#            df_pd['longitude'][index]= 131.7229\n",
    "#            continue\n",
    "#        case 'Novoshahtinskij':\n",
    "#            df_pd['latitude'][index]= 47.7569\n",
    "#            df_pd['longitude'][index]= 39.9358\n",
    "#            continue\n",
    "#        case 'Slavjanka':\n",
    "#            df_pd['latitude'][index]= 42.8624\n",
    "#            df_pd['longitude'][index]= 131.3894\n",
    "#            continue\n",
    "#        case 'Bolshoj Kamen':\n",
    "#            df_pd['latitude'][index]= 43.1125\n",
    "#            df_pd['longitude'][index]= 132.3452\n",
    "#            continue\n",
    "#        case 'Jaroslavskij':\n",
    "#            df_pd['latitude'][index]= 55.8604\n",
    "#            df_pd['longitude'][index]= 37.6928\n",
    "#            continue\n",
    "#        case 'Roschino':\n",
    "#            df_pd['latitude'][index]= 55.4575\n",
    "#            df_pd['longitude'][index]= 74.2358\n",
    "#            continue\n",
    "\n",
    "    geolocator = Nominatim(user_agent=\"Your_Name\")\n",
    "    location = geolocator.geocode(address)\n",
    "    if hasattr(location,'latitude') is not False:\n",
    "        df_pd['latitude'][index]= location.latitude\n",
    "        df_pd['longitude'][index]= location.longitude\n",
    "        \n",
    "\n",
    "    \n"
   ]
  },
  {
   "cell_type": "code",
   "execution_count": null,
   "id": "7f3db2d6",
   "metadata": {},
   "outputs": [],
   "source": [
    "df_pd.dropna(subset=['latitude', 'longitude'], inplace=True)\n",
    "df_pd"
   ]
  },
  {
   "cell_type": "markdown",
   "id": "9627418b",
   "metadata": {},
   "source": [
    "In the chart below, we can see the visualisation of the data in piecharts. <br> \n",
    "The data only shows the biggest 5 data in the column."
   ]
  },
  {
   "cell_type": "code",
   "execution_count": null,
   "id": "b3dc7822",
   "metadata": {},
   "outputs": [],
   "source": [
    "\n",
    "df_pd_csv = pd.read_csv(\"region25_en.csv\")\n",
    "\n",
    "import matplotlib.pyplot as plt\n",
    "\n",
    "# Get all the categorical columns in the DataFrame\n",
    "#cat_cols = [\"brand\"]\n",
    "#cat_cols = df_pd.select_dtypes(include=['object']).columns\n",
    "cat_cols = ['brand', 'name', 'bodyType', 'color', 'fuelType',\n",
    "       'transmission', 'power', 'price', 'vehicleConfiguration', 'engineName',\n",
    "       'engineDisplacement', 'location']\n",
    "\n",
    "# 'price', 'vehicleConfiguration', 'engineName',\n",
    "#       'engineDisplacement', 'date', 'location', 'link', 'parse_date'\n",
    "\n",
    "\n",
    "# Plot pie chart for each categorical column\n",
    "fig, ax = plt.subplots(nrows=4, ncols=3, figsize=(12,10))\n",
    "i = 0\n",
    "j = 0\n",
    "for col in cat_cols:\n",
    "    counts = df_pd_csv[col].value_counts()\n",
    "    top_five = counts.head(5)\n",
    "    print(top_five.keys())\n",
    "    #count_values = top_five[col].value_counts().tolist()\n",
    "    ax[i,j].pie(top_five, labels=top_five.keys() ,autopct='%.1f%%')\n",
    "    ax[i,j].set_title(col)\n",
    "    \n",
    "#    ax1[i,j].bar( top_five.keys(),top_five)\n",
    "#    ax1[i,j].set_title(col)\n",
    "    if j<3:\n",
    "        j += 1\n",
    "        if j ==3 :\n",
    "            j = 0\n",
    "            i += 1\n",
    "    fig.subplots_adjust(hspace=0.3)  # add horizontal space between subplots\n",
    "#    fig1.subplots_adjust(hspace=0.5)  # add horizontal space between subplots\n",
    "plt.title(col)\n",
    "plt.show()\n",
    "\n",
    "\n",
    "    "
   ]
  },
  {
   "cell_type": "markdown",
   "id": "50b38e1c",
   "metadata": {},
   "source": [
    "The charts below shows the top 5 data and their numbers in brand, name, bodytype, color, fueltype,trasmission,power,vehicleConfiguration,Enginename,Enginedisplacement and location. For example, from here we can see that Toyota is the most used car brand and the most used fueltype is gasoline. Making more assumptions from this chart and the chart above is possible."
   ]
  },
  {
   "cell_type": "code",
   "execution_count": null,
   "id": "52acd173",
   "metadata": {},
   "outputs": [],
   "source": [
    "i = 0\n",
    "j = 0\n",
    "fig1, ax1 = plt.subplots(nrows=4, ncols=3, figsize=(12,10))\n",
    "for col in cat_cols:\n",
    "    if col == 'price':\n",
    "        continue\n",
    "    counts = df_pd_csv[col].value_counts()\n",
    "    top_five = counts.head(5)\n",
    "    ax1[i,j].bar( top_five.keys(),top_five)\n",
    "    ax1[i,j].set_title(col)\n",
    "    if j<3:\n",
    "        j += 1\n",
    "        if j ==3 :\n",
    "            j = 0\n",
    "            i += 1\n",
    "    fig1.subplots_adjust(hspace=0.5)  # add horizontal space between subplots\n",
    "plt.title(col)\n",
    "plt.show()"
   ]
  },
  {
   "cell_type": "markdown",
   "id": "598fab12",
   "metadata": {},
   "source": [
    "The graph below shows the brand and price in boxplot. We can zoom in this graph and see the outlier data."
   ]
  },
  {
   "cell_type": "code",
   "execution_count": null,
   "id": "bb3b07ee",
   "metadata": {},
   "outputs": [],
   "source": [
    "import plotly.express as px\n",
    "fig = px.box(df_pd_csv, x=\"brand\", y=\"price\")\n",
    "fig.show()"
   ]
  },
  {
   "cell_type": "markdown",
   "id": "6e2d4a3d",
   "metadata": {},
   "source": [
    "The graph below shows the average price of the cars for each year. From here, we can see that the avg price of the cars increased every year. Also there was an huge increase between 1970 and 1980."
   ]
  },
  {
   "cell_type": "code",
   "execution_count": null,
   "id": "efe087d4",
   "metadata": {},
   "outputs": [],
   "source": [
    "grouped = df_pd_csv.groupby('year').mean()\n",
    "fig = px.line(x=grouped['price'].keys(), y=grouped['price'],title='Average prices of cars for each year')\n",
    "fig.show()"
   ]
  },
  {
   "cell_type": "markdown",
   "id": "195c5a62",
   "metadata": {},
   "source": [
    "The graph below shows the comparasion of the price according to the body and fuel type of the cars. For example, we can see that jeep with 5 doors which is gasoline has the biggest prices."
   ]
  },
  {
   "cell_type": "code",
   "execution_count": null,
   "id": "82be7096",
   "metadata": {},
   "outputs": [],
   "source": [
    "fig = px.scatter(df_pd_csv,x='bodyType', y='price',\n",
    "                 color=\"fuelType\", title='Comparasion of price according to the body type and fuel type of the cars')\n",
    "fig.show()"
   ]
  },
  {
   "cell_type": "markdown",
   "id": "d59d3293",
   "metadata": {},
   "source": [
    "City of announcement located in the map (Below) :"
   ]
  },
  {
   "cell_type": "code",
   "execution_count": null,
   "id": "19ac25bb",
   "metadata": {},
   "outputs": [],
   "source": [
    "m = folium.Map(location=[60, 100], zoom_start=4)\n",
    "\n",
    "# Iterate over each row in the DataFrame and add a marker to the map\n",
    "for index, row in df_pd.iterrows():\n",
    "    folium.CircleMarker(\n",
    "        location=[row['latitude'], row['longitude']],\n",
    "        radius=10, # adjust radius based on count column\n",
    "        popup=row['location_name'],\n",
    "        color='red',\n",
    "        fill=True,\n",
    "        fill_color='red'\n",
    "    ).add_to(m)\n",
    "\n",
    "# Show the map\n",
    "#m.save(\"map1.html\")\n",
    "display(m)"
   ]
  },
  {
   "cell_type": "markdown",
   "id": "3fd926a7",
   "metadata": {},
   "source": [
    "## Preprocessing "
   ]
  },
  {
   "cell_type": "code",
   "execution_count": null,
   "id": "68135c4a",
   "metadata": {},
   "outputs": [],
   "source": [
    "df.printSchema()"
   ]
  },
  {
   "cell_type": "markdown",
   "id": "6d25904b",
   "metadata": {},
   "source": [
    "Null values were handled here. <br> String column were most the repeated ones. The int columns were filled with avg."
   ]
  },
  {
   "cell_type": "code",
   "execution_count": null,
   "id": "1033c194",
   "metadata": {},
   "outputs": [],
   "source": [
    "from pyspark.sql.functions import count,mean\n",
    "column_names = df.columns\n",
    "for column_name in column_names:\n",
    "    null_count = df.filter(df[column_name].isNull()).groupBy().agg(count(\"*\")).first()[0]\n",
    "    if null_count > 0:\n",
    "        print(f\"Column '{column_name}' has {null_count} null values\")"
   ]
  },
  {
   "cell_type": "code",
   "execution_count": null,
   "id": "e508a9dc",
   "metadata": {},
   "outputs": [],
   "source": [
    "for column_name, dtype in df.dtypes:\n",
    "    if dtype in ['int', 'double']:\n",
    "        avg = df.agg(mean(column_name)).first()[0]\n",
    "        print(f\"Average value of {column_name}: {avg}\")\n",
    "    elif dtype == 'string':\n",
    "        most_frequent = df.groupBy(column_name).agg(count(\"*\").alias(\"count\")).sort(\"count\", ascending=False).first()[0]\n",
    "        print(f\"Most frequent value of {column_name}: {most_frequent}\")"
   ]
  },
  {
   "cell_type": "code",
   "execution_count": null,
   "id": "5dcf721b",
   "metadata": {},
   "outputs": [],
   "source": [
    "values = {'color': 'white', 'fuelType': 'Gasoline', 'year':2010,'mileage':134250,\n",
    "         'transmission':'CVT','power':145}\n",
    "\n",
    "for column_name, value in values.items():\n",
    "    df = df.na.fill({column_name: value})\n",
    "    \n",
    "df = df.drop(\"vehicleConfiguration\", \"engineName\",\"engineDisplacement\")"
   ]
  },
  {
   "cell_type": "markdown",
   "id": "b5cb7ca2",
   "metadata": {},
   "source": [
    "In this part, string column were one hot encoded"
   ]
  },
  {
   "cell_type": "code",
   "execution_count": null,
   "id": "928927de",
   "metadata": {},
   "outputs": [],
   "source": [
    "string_columns = [column[0] for column in df.dtypes if column[1] == \"string\"]\n",
    "\n",
    "#string_columns = ... # list of string column names\n",
    "\n",
    "from pyspark.ml.feature import StringIndexer,OneHotEncoder\n",
    "from pyspark.ml import Pipeline\n",
    "\n",
    "\n",
    "# Loop through the string columns and apply one-hot encoding\n",
    "stages = []\n",
    "\n",
    "# Loop through the string columns and apply string indexing and one-hot encoding\n",
    "for column_name in string_columns:\n",
    "    string_indexer = StringIndexer(inputCol=column_name, outputCol=f\"{column_name}_indexed\")\n",
    "    one_hot_encoder = OneHotEncoder(inputCol=f\"{column_name}_indexed\", outputCol=f\"{column_name}_vector\")\n",
    "    stages += [string_indexer, one_hot_encoder]\n",
    "\n",
    "# Apply the pipeline of string indexing and one-hot encoding to the data\n",
    "pipeline = Pipeline(stages=stages)\n",
    "df1 = pipeline.fit(df).transform(df)"
   ]
  },
  {
   "cell_type": "markdown",
   "id": "10bce9ce",
   "metadata": {},
   "source": [
    "In this part, we seperates the dates as year, month , day (3 different column). "
   ]
  },
  {
   "cell_type": "code",
   "execution_count": null,
   "id": "90c35a4c",
   "metadata": {},
   "outputs": [],
   "source": [
    "from pyspark.sql.functions import year, month, date_format\n",
    "\n",
    "df1 = df1.withColumn(\"year\", year(df[\"parse_date\"]))\n",
    "df1 = df1.withColumn(\"month\", month(df[\"parse_date\"]))\n",
    "df1 = df1.withColumn(\"day\", date_format(df[\"parse_date\"], 'dd').cast('integer'))"
   ]
  },
  {
   "cell_type": "markdown",
   "id": "480d41f5",
   "metadata": {},
   "source": [
    "In this part, unnecessary columns and one hot encoded columns were dropped."
   ]
  },
  {
   "cell_type": "code",
   "execution_count": null,
   "id": "523e3116",
   "metadata": {},
   "outputs": [],
   "source": [
    "df1 = df1.drop(\"brand\", \"name\",\"bodyType\",\"color\",\"fuelType\",\"transmission\",\"location\",\"link\",\"date\",\"parse_date\")"
   ]
  },
  {
   "cell_type": "code",
   "execution_count": null,
   "id": "f3c07d2a",
   "metadata": {},
   "outputs": [],
   "source": [
    "input_features = df1.columns\n",
    "input_features.remove('price')\n",
    "featureassembler = VectorAssembler(inputCols = input_features, outputCol = \"Independent Features\")"
   ]
  },
  {
   "cell_type": "code",
   "execution_count": null,
   "id": "17b2320b",
   "metadata": {},
   "outputs": [],
   "source": [
    "output = featureassembler.transform(df1)\n",
    "#output.select(\"Independent Features\").show()"
   ]
  },
  {
   "cell_type": "code",
   "execution_count": null,
   "id": "9bbb7a6d",
   "metadata": {},
   "outputs": [],
   "source": [
    "finalised_data = output.select(\"Independent Features\", \"price\")\n",
    "finalised_data.show()"
   ]
  },
  {
   "cell_type": "markdown",
   "id": "01b1e213",
   "metadata": {},
   "source": [
    "Train, test split :"
   ]
  },
  {
   "cell_type": "code",
   "execution_count": null,
   "id": "a904c697",
   "metadata": {},
   "outputs": [],
   "source": [
    "train_data, test_data = finalised_data.randomSplit([0.75, 0.25])"
   ]
  },
  {
   "cell_type": "markdown",
   "id": "98d974ea",
   "metadata": {},
   "source": [
    "## Model"
   ]
  },
  {
   "cell_type": "code",
   "execution_count": null,
   "id": "cb0f3431",
   "metadata": {},
   "outputs": [],
   "source": [
    "regressor = LinearRegression(featuresCol = 'Independent Features', labelCol = 'price')\n",
    "regressor = regressor.fit(train_data)"
   ]
  },
  {
   "cell_type": "markdown",
   "id": "87363021",
   "metadata": {},
   "source": [
    "## Results"
   ]
  },
  {
   "cell_type": "markdown",
   "id": "31ac25cf",
   "metadata": {},
   "source": [
    "In this part, we can see the result and how the prediction is close the actual price."
   ]
  },
  {
   "cell_type": "code",
   "execution_count": null,
   "id": "aa3d4e51",
   "metadata": {},
   "outputs": [],
   "source": [
    "pred_results = regressor.evaluate(test_data)\n",
    "pred_results.predictions.show()"
   ]
  },
  {
   "attachments": {
    "image-2.png": {
     "image/png": "[encoded data removed]"
    }
   },
   "cell_type": "markdown",
   "id": "bea8c2f9",
   "metadata": {},
   "source": [
    "![image-2.png](attachment:image-2.png) <br> In this part, we evaluated according to the r2 score ( the picture above was added as an example to r2 ). We can see that our result is close to 1."
   ]
  },
  {
   "cell_type": "code",
   "execution_count": null,
   "id": "b4f60a4e",
   "metadata": {},
   "outputs": [],
   "source": [
    "evaluator = RegressionEvaluator(labelCol=\"price\", predictionCol=\"prediction\", metricName=\"r2\")\n",
    "r2_score = evaluator.evaluate(pred_results.predictions)\n",
    "print(r2_score)"
   ]
  },
  {
   "cell_type": "code",
   "execution_count": null,
   "id": "7ef110b1",
   "metadata": {},
   "outputs": [],
   "source": []
  }
 ],
 "metadata": {
  "kernelspec": {
   "display_name": "Python 3 (ipykernel)",
   "language": "python",
   "name": "python3"
  },
  "language_info": {
   "codemirror_mode": {
    "name": "ipython",
    "version": 3
   },
   "file_extension": ".py",
   "mimetype": "text/x-python",
   "name": "python",
   "nbconvert_exporter": "python",
   "pygments_lexer": "ipython3",
   "version": "3.10.8"
  }
 },
 "nbformat": 4,
 "nbformat_minor": 5
}
